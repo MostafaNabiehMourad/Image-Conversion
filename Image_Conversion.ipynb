{
  "nbformat": 4,
  "nbformat_minor": 0,
  "metadata": {
    "colab": {
      "name": "Image Conversion.ipynb",
      "provenance": [],
      "collapsed_sections": []
    },
    "kernelspec": {
      "name": "python3",
      "display_name": "Python 3"
    },
    "language_info": {
      "name": "python"
    }
  },
  "cells": [
    {
      "cell_type": "code",
      "metadata": {
        "id": "ntxYAFX-F7x5"
      },
      "source": [
        "from PIL import Image"
      ],
      "execution_count": 2,
      "outputs": []
    },
    {
      "cell_type": "code",
      "metadata": {
        "id": "_LxLq89PF_4l"
      },
      "source": [
        "import glob"
      ],
      "execution_count": 3,
      "outputs": []
    },
    {
      "cell_type": "code",
      "metadata": {
        "colab": {
          "base_uri": "https://localhost:8080/"
        },
        "id": "9fd7DYj8GBI8",
        "outputId": "bc32f7d5-085d-4c32-e72c-5fdf95a34d12"
      },
      "source": [
        "print(glob.glob(\"*.png\"))"
      ],
      "execution_count": 4,
      "outputs": [
        {
          "output_type": "stream",
          "name": "stdout",
          "text": [
            "['png-transparent-lionel-messi-fc-barcelona-argentina-national-football-team-football-player-lionel-messi.png', 'png-transparent-lionel-messi-football-player-messi-ronaldo-rivalry-fc-barcelona-jersey-lionel-messi-tshirt-jersey-sports.png']\n"
          ]
        }
      ]
    },
    {
      "cell_type": "code",
      "metadata": {
        "id": "4OMcTGkOGhp1"
      },
      "source": [
        "ls_glob = glob.glob(\"*.png\")"
      ],
      "execution_count": 5,
      "outputs": []
    },
    {
      "cell_type": "code",
      "metadata": {
        "id": "hyS5BRM5Gc3F"
      },
      "source": [
        "for i in ls_glob:\n",
        "    im = Image.open(i)\n",
        "    rgb_im = im.convert('RGB')\n",
        "    rgb_im.save(i.replace(\"png\", \"jpg\"), quality=95)"
      ],
      "execution_count": 8,
      "outputs": []
    },
    {
      "cell_type": "code",
      "metadata": {
        "id": "IfcZldh0GoBS"
      },
      "source": [
        "import os \n",
        "for i in ls_glob:\n",
        "  os.remove(i)"
      ],
      "execution_count": 9,
      "outputs": []
    },
    {
      "cell_type": "code",
      "metadata": {
        "id": "4d8h31yLG2hs"
      },
      "source": [
        ""
      ],
      "execution_count": null,
      "outputs": []
    }
  ]
}